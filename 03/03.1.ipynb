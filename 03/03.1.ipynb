{
 "cells": [
  {
   "cell_type": "markdown",
   "source": [
    "# 3강 한국어 전처리\r\n",
    "---"
   ],
   "metadata": {}
  },
  {
   "cell_type": "code",
   "execution_count": 3,
   "source": [
    "# 한국어 위키백과\r\n",
    "# 참고: https://omicro03.medium.com/%EC%9E%90%EC%97%B0%EC%96%B4%EC%B2%98%EB%A6%AC-nlp-14%EC%9D%BC%EC%B0%A8-word2vec-%EC%8B%A4%EC%8A%B5-a4e7767a1e66\r\n",
    "\r\n",
    "# 1. 위키피디아 한국어 덤프 파일 다운로드\r\n",
    "# 다운로드 : https://dumps.wikimedia.org/kowiki/latest/\r\n",
    "# 2. 위키피디아 익스트랙터 다운로드 : 위키 범프에서 위키 문서의 제목과 본문만 추출한다.\r\n",
    "# https://github.com/attardi/wikiextractor\r\n",
    "# 3. 위키피디아 한국어 덤프 파일 변환\r\n",
    "# 4. 훈련 데이터 만들기\r\n",
    "# 5. Word2Vec 작업"
   ],
   "outputs": [],
   "metadata": {}
  },
  {
   "cell_type": "code",
   "execution_count": 7,
   "source": [
    "from gensim.corpora import WikiCorpus, Dictionary\r\n",
    "from gensim.utils import to_unicode\r\n",
    "\r\n",
    "in_f = 'D:/pseudo_data/raw/kowiki-latest-pages-articles.xml.bz2'\r\n",
    "out_f = 'D:/pseudo_data/processed/processed_wiki_ko.txt'\r\n",
    "output = open(out_f, 'w')\r\n",
    "wiki = WikiCorpus(in_f, tokenizer_func=, dictionary=Dictionary())"
   ],
   "outputs": [
    {
     "output_type": "error",
     "ename": "SyntaxError",
     "evalue": "invalid syntax (<ipython-input-7-19d05f7d9251>, line 8)",
     "traceback": [
      "\u001b[1;36m  File \u001b[1;32m\"<ipython-input-7-19d05f7d9251>\"\u001b[1;36m, line \u001b[1;32m8\u001b[0m\n\u001b[1;33m    wiki = WikiCorpus(in_f, tokenizer_func=, dictionary=Dictionary())\u001b[0m\n\u001b[1;37m                                           ^\u001b[0m\n\u001b[1;31mSyntaxError\u001b[0m\u001b[1;31m:\u001b[0m invalid syntax\n"
     ]
    }
   ],
   "metadata": {}
  }
 ],
 "metadata": {
  "orig_nbformat": 4,
  "language_info": {
   "name": "python",
   "version": "3.6.5",
   "mimetype": "text/x-python",
   "codemirror_mode": {
    "name": "ipython",
    "version": 3
   },
   "pygments_lexer": "ipython3",
   "nbconvert_exporter": "python",
   "file_extension": ".py"
  },
  "kernelspec": {
   "name": "python3",
   "display_name": "Python 3.6.5 64-bit ('pnlp': conda)"
  },
  "interpreter": {
   "hash": "034986b1388e023bda407c3a8ff79801d799a089d00b4b61f6ebe20fc1b4aa17"
  }
 },
 "nbformat": 4,
 "nbformat_minor": 2
}