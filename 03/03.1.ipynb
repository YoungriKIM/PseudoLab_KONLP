{
 "cells": [
  {
   "cell_type": "markdown",
   "source": [
    "# 3강 한국어 전처리\r\n",
    "---"
   ],
   "metadata": {}
  },
  {
   "cell_type": "code",
   "execution_count": null,
   "source": [
    "# 한국어 위키백과\r\n",
    "# 참고: https://omicro03.medium.com/%EC%9E%90%EC%97%B0%EC%96%B4%EC%B2%98%EB%A6%AC-nlp-14%EC%9D%BC%EC%B0%A8-word2vec-%EC%8B%A4%EC%8A%B5-a4e7767a1e66\r\n",
    "\r\n",
    "# 1. 위키피디아 한국어 덤프 파일 다운로드\r\n",
    "# 다운로드 : https://dumps.wikimedia.org/kowiki/latest/\r\n",
    "# 2. 위키피디아 익스트랙터 다운로드 : 위키 범프에서 위키 문서의 제목과 본문만 추출한다.\r\n",
    "# https://github.com/attardi/wikiextractor\r\n",
    "# 3. 위키피디아 한국어 덤프 파일 변환\r\n",
    "# 4. 훈련 데이터 만들기\r\n",
    "# 5. Word2Vec 작업"
   ],
   "outputs": [],
   "metadata": {}
  },
  {
   "cell_type": "code",
   "execution_count": null,
   "source": [
    "from gensim.corpora import WikiCorpus, Dictionary\r\n",
    "\r\n",
    "\r\n",
    "in_f = 'D:/pseudo_data/wikiextractor/wikiextractor/kowiki-latest-pages-articles.xml.bz2'\r\n"
   ],
   "outputs": [],
   "metadata": {}
  }
 ],
 "metadata": {
  "orig_nbformat": 4,
  "language_info": {
   "name": "python"
  }
 },
 "nbformat": 4,
 "nbformat_minor": 2
}